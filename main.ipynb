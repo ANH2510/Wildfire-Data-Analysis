{
 "cells": [
  {
   "cell_type": "code",
   "execution_count": 3,
   "metadata": {},
   "outputs": [],
   "source": [
    "import netCDF4 as nc\n",
    "import numpy as np\n",
    "import matplotlib\n",
    "import matplotlib.pyplot as plt\n",
    "import xarray as xr\n",
    "import os\n"
   ]
  },
  {
   "cell_type": "code",
   "execution_count": 4,
   "metadata": {},
   "outputs": [
    {
     "name": "stdout",
     "output_type": "stream",
     "text": [
      "<xarray.Dataset>\n",
      "Dimensions:                          (time: 12, lat: 720, lon: 1440,\n",
      "                                      vegetation_class: 18, bounds: 2)\n",
      "Coordinates:\n",
      "  * lat                              (lat) float64 89.88 89.62 ... -89.62 -89.88\n",
      "  * lon                              (lon) float64 -179.9 -179.6 ... 179.6 179.9\n",
      "  * time                             (time) datetime64[ns] 2019-01-01 ... 201...\n",
      "  * vegetation_class                 (vegetation_class) int32 -2147483647 ......\n",
      "Dimensions without coordinates: bounds\n",
      "Data variables:\n",
      "    burned_area                      (time, lat, lon) float32 dask.array<chunksize=(1, 720, 1440), meta=np.ndarray>\n",
      "    standard_error                   (time, lat, lon) float32 dask.array<chunksize=(1, 720, 1440), meta=np.ndarray>\n",
      "    fraction_of_burnable_area        (time, lat, lon) float32 dask.array<chunksize=(1, 720, 1440), meta=np.ndarray>\n",
      "    fraction_of_observed_area        (time, lat, lon) float32 dask.array<chunksize=(1, 720, 1440), meta=np.ndarray>\n",
      "    number_of_patches                (time, lat, lon) float32 dask.array<chunksize=(1, 720, 1440), meta=np.ndarray>\n",
      "    burned_area_in_vegetation_class  (time, vegetation_class, lat, lon) float32 dask.array<chunksize=(1, 18, 720, 1440), meta=np.ndarray>\n",
      "    lat_bounds                       (time, lat, bounds) float64 dask.array<chunksize=(1, 720, 2), meta=np.ndarray>\n",
      "    lon_bounds                       (time, lon, bounds) float64 dask.array<chunksize=(1, 1440, 2), meta=np.ndarray>\n",
      "    time_bounds                      (time, bounds) datetime64[ns] dask.array<chunksize=(1, 2), meta=np.ndarray>\n",
      "    vegetation_class_name            (time, vegetation_class) |S150 dask.array<chunksize=(1, 18), meta=np.ndarray>\n",
      "Attributes: (12/37)\n",
      "    title:                      Fire_cci Gridded MODIS Burned Area product\n",
      "    institution:                University of Alcala\n",
      "    source:                     MODIS MOD09GQ Collection 6, MODIS MOD09GA Col...\n",
      "    history:                    Created on 2017-12-19 06:42:41; modified with...\n",
      "    references:                 See www.esa-fire-cci.org\n",
      "    tracking_id:                fba0e743-f1ca-4533-a301-796f3110d34c\n",
      "    ...                         ...\n",
      "    spatial_resolution:         0.25 degrees\n",
      "    geospatial_lon_units:       degrees_east\n",
      "    geospatial_lat_units:       degrees_north\n",
      "    geospatial_lon_resolution:  0.25\n",
      "    geospatial_lat_resolution:  0.25\n",
      "    id:                         20190101-ESACCI-L4_FIRE-BA-MODIS-fv5.1.1cds.nc\n"
     ]
    }
   ],
   "source": [
    "import xarray as xr\n",
    "\n",
    "ds = xr.open_mfdataset('..//WILDFIRE-DATA-ANALYSIS//data//*2019.nc')\n",
    "print(ds)\n"
   ]
  },
  {
   "cell_type": "code",
   "execution_count": 5,
   "metadata": {},
   "outputs": [],
   "source": [
    "##'burned_area', 'standard_error', 'fraction_of_burnable_area', 'fraction_of_observed_area','number_of_patches','burned_area_in_vegetation_class', \n",
    "## 'lat', 'lat_bounds', 'lon', 'time', 'time_bounds','vegetation_class_name'"
   ]
  },
  {
   "cell_type": "code",
   "execution_count": 6,
   "metadata": {},
   "outputs": [
    {
     "data": {
      "text/plain": [
       "Data variables:\n",
       "    burned_area                      (time, lat, lon) float32 dask.array<chunksize=(1, 720, 1440), meta=np.ndarray>\n",
       "    standard_error                   (time, lat, lon) float32 dask.array<chunksize=(1, 720, 1440), meta=np.ndarray>\n",
       "    fraction_of_burnable_area        (time, lat, lon) float32 dask.array<chunksize=(1, 720, 1440), meta=np.ndarray>\n",
       "    fraction_of_observed_area        (time, lat, lon) float32 dask.array<chunksize=(1, 720, 1440), meta=np.ndarray>\n",
       "    number_of_patches                (time, lat, lon) float32 dask.array<chunksize=(1, 720, 1440), meta=np.ndarray>\n",
       "    burned_area_in_vegetation_class  (time, vegetation_class, lat, lon) float32 dask.array<chunksize=(1, 18, 720, 1440), meta=np.ndarray>\n",
       "    lat_bounds                       (time, lat, bounds) float64 dask.array<chunksize=(1, 720, 2), meta=np.ndarray>\n",
       "    lon_bounds                       (time, lon, bounds) float64 dask.array<chunksize=(1, 1440, 2), meta=np.ndarray>\n",
       "    time_bounds                      (time, bounds) datetime64[ns] dask.array<chunksize=(1, 2), meta=np.ndarray>\n",
       "    vegetation_class_name            (time, vegetation_class) |S150 dask.array<chunksize=(1, 18), meta=np.ndarray>"
      ]
     },
     "execution_count": 6,
     "metadata": {},
     "output_type": "execute_result"
    }
   ],
   "source": [
    "ds.data_vars"
   ]
  },
  {
   "cell_type": "code",
   "execution_count": 11,
   "metadata": {},
   "outputs": [
    {
     "data": {
      "text/plain": [
       "-90.0"
      ]
     },
     "execution_count": 11,
     "metadata": {},
     "output_type": "execute_result"
    }
   ],
   "source": [
    "ds[\"lat_bounds\"].values[:].min()"
   ]
  },
  {
   "cell_type": "code",
   "execution_count": null,
   "metadata": {},
   "outputs": [],
   "source": []
  }
 ],
 "metadata": {
  "interpreter": {
   "hash": "d4537f6523d799823cbc379449d384bd78a1ed94685038b8aab56240f567eba2"
  },
  "kernelspec": {
   "display_name": "Python 3.9.12 64-bit (windows store)",
   "language": "python",
   "name": "python3"
  },
  "language_info": {
   "codemirror_mode": {
    "name": "ipython",
    "version": 3
   },
   "file_extension": ".py",
   "mimetype": "text/x-python",
   "name": "python",
   "nbconvert_exporter": "python",
   "pygments_lexer": "ipython3",
   "version": "3.9.12"
  },
  "orig_nbformat": 4
 },
 "nbformat": 4,
 "nbformat_minor": 2
}
